{
 "cells": [
  {
   "cell_type": "code",
   "execution_count": 4,
   "metadata": {},
   "outputs": [
    {
     "name": "stdout",
     "output_type": "stream",
     "text": [
      "importing libraries\n",
      "libraries loaded\n"
     ]
    }
   ],
   "source": [
    "print('importing libraries')\n",
    "import tensorflow as tf\n",
    "import numpy as np\n",
    "from tensorflow import keras\n",
    "print('libraries loaded')"
   ]
  },
  {
   "cell_type": "code",
   "execution_count": 2,
   "metadata": {},
   "outputs": [],
   "source": [
    "#Fashion MNIST data is available directly in the tf.keras datasets API.\n",
    "#Fashion-MNIST is a dataset of Zalando's article images—consisting of a training set of 60,000 examples and a test set of 10,000 examples. \n",
    "#Each example is a 28x28 grayscale image, associated with a label from 10 classes\n",
    "mnist = tf.keras.datasets.fashion_mnist"
   ]
  },
  {
   "cell_type": "code",
   "execution_count": 3,
   "metadata": {},
   "outputs": [
    {
     "name": "stdout",
     "output_type": "stream",
     "text": [
      "Downloading data from https://storage.googleapis.com/tensorflow/tf-keras-datasets/train-labels-idx1-ubyte.gz\n",
      "32768/29515 [=================================] - 0s 1us/step\n",
      "Downloading data from https://storage.googleapis.com/tensorflow/tf-keras-datasets/train-images-idx3-ubyte.gz\n",
      "26427392/26421880 [==============================] - 2s 0us/step\n",
      "Downloading data from https://storage.googleapis.com/tensorflow/tf-keras-datasets/t10k-labels-idx1-ubyte.gz\n",
      "8192/5148 [===============================================] - 0s 1us/step\n",
      "Downloading data from https://storage.googleapis.com/tensorflow/tf-keras-datasets/t10k-images-idx3-ubyte.gz\n",
      "4423680/4422102 [==============================] - 0s 0us/step\n"
     ]
    }
   ],
   "source": [
    "#training  and test list obtained by called load object on mnist\n",
    "(training_images, training_labels), (test_images, test_labels) = mnist.load_data()"
   ]
  },
  {
   "cell_type": "code",
   "execution_count": 7,
   "metadata": {},
   "outputs": [
    {
     "name": "stdout",
     "output_type": "stream",
     "text": [
      "5\n",
      "[[  0   0   0   0   0   0   0   0   0   0   0   0   0   0   0   0   0   0   0   0   0   0   0   0   0   0   0   0]\n",
      " [  0   0   0   0   0   0   0   0   0   0   0   0   0   0   0   0   0   0   0   0   0   0   0   0   0   0   0   0]\n",
      " [  0   0   0   0   0   0   0   0   0   0   0   0   0   0   0   0   0   0   0   0   0   0   0   0   0   0   0   0]\n",
      " [  0   0   0   0   0   0   0   0   0   0   0   0   0   0   0   0   0   0   0   0   0   0   0   0   0   0   0   0]\n",
      " [  0   0   0   0   0   0   0   0   0   0   0   0   0   0   0   0   0   0   0   0   0   0   0   0   0   0   0   0]\n",
      " [  0   0   0   0   0   0   0   0   0   0   0   0   0   0   0   0   0   0   0   0   0   0   0   0   0   0   0   0]\n",
      " [  0   0   0   0   0   0   0   0   0   0   0   0   0   0   0   0   0   0   0   0   0   0   0   0   0   0   0   0]\n",
      " [  0   0   0   0   0   0   0   0   0   0   0   0   0   0   0   0   0   0   0   0   0   0   0   0   0   0   0   0]\n",
      " [  0   0   0   0   0   0   0   0   0   0   0   2   0   0  57  40   0   0   0   0   0   1   0   0   3   4   0   0]\n",
      " [  0   0   0   0   0   0   0   0   0   0   3   0   0  69 167 159  80   0   0   4   6   4   7   0   0   0   0   0]\n",
      " [  0   0   0   0   0   0   0   0   0   0   0   0 127 156 123 161 174 156   0   0   0   0   0   0  50 108 149  64]\n",
      " [  0   0   0   0   0   0   0   0   6   0  54 210 132 120 185 126  89 172 186 111  89  79 123 147 135 128 125 102]\n",
      " [  0   0   1   0   1   2   4   0   0   0 156 185   0  21 179 186 114  82 121 153 151 152 129 129 121 116  70   0]\n",
      " [  0   0   0   0   0   0   0   0   0  72 173 162   0   0   0  22 172 151  90 105 110 127 150 121  55   0   0   0]\n",
      " [  1   3   2   0   0  10  78 144 178 199 173 170   0   0   0   0   0 143 180 125 137 156  42   0   0   0   0   1]\n",
      " [  0   0   0   0 109 169 147 123 103 150 200 190   0   0   1   0   0   0  74 123 117  97   0   0   1   0   0   0]\n",
      " [  0  16  25   0 120 129 108 127 111  84 141 229   0   0   0   0  51  85 107 117  98 125 128 141 138 120  93   0]\n",
      " [145 161 121 150 126 114 125 119 117 126  76 176  74  76 145 157 137 120 139 147 153 163 147 143 140 138 170  82]\n",
      " [ 56 193 200 180 156 132 102  85  90  98  93  78 172 150 125 131 167 197 221 227 218 209 208 200 191 179 198  43]\n",
      " [  0   0  81 179 239 254 246 242 215 200 186 198 200 186 204 209 246 228 212 215 238 232 216 214 203 178 230  42]\n",
      " [  0   0   0   0   0   0  50  98 101 159 152 121 135  96  50   0   0   0   0   0  33  70  96 107 107  89  42   0]\n",
      " [  0   0   0   0   0   0   0   0   0   0   0   0   0   0   0   0   0   0   0   0   0   0   0   0   0   0   0   0]\n",
      " [  0   0   0   0   0   0   0   0   0   0   0   0   0   0   0   0   0   0   0   0   0   0   0   0   0   0   0   0]\n",
      " [  0   0   0   0   0   0   0   0   0   0   0   0   0   0   0   0   0   0   0   0   0   0   0   0   0   0   0   0]\n",
      " [  0   0   0   0   0   0   0   0   0   0   0   0   0   0   0   0   0   0   0   0   0   0   0   0   0   0   0   0]\n",
      " [  0   0   0   0   0   0   0   0   0   0   0   0   0   0   0   0   0   0   0   0   0   0   0   0   0   0   0   0]\n",
      " [  0   0   0   0   0   0   0   0   0   0   0   0   0   0   0   0   0   0   0   0   0   0   0   0   0   0   0   0]\n",
      " [  0   0   0   0   0   0   0   0   0   0   0   0   0   0   0   0   0   0   0   0   0   0   0   0   0   0   0   0]]\n"
     ]
    },
    {
     "data": {
      "image/png": "[encoded data removed]",
      "text/plain": [
       "<Figure size 432x288 with 1 Axes>"
      ]
     },
     "metadata": {
      "needs_background": "light"
     },
     "output_type": "display_data"
    }
   ],
   "source": [
    "# visualizing training images\n",
    "np.set_printoptions(linewidth=200)\n",
    "import matplotlib.pyplot as plt\n",
    "plt.imshow(training_images[43])\n",
    "print(training_labels[43])\n",
    "print(training_images[43])"
   ]
  },
  {
   "cell_type": "code",
   "execution_count": 8,
   "metadata": {},
   "outputs": [],
   "source": [
    "# normalizing the images  .. values in either 1 or 0\n",
    "training_images  = training_images / 255.0\n",
    "test_images = test_images / 255.0"
   ]
  },
  {
   "cell_type": "code",
   "execution_count": 10,
   "metadata": {},
   "outputs": [
    {
     "data": {
      "text/plain": [
       "array([[0.        , 0.        , 0.        , 0.        , 0.        , 0.        , 0.        , 0.        , 0.        , 0.        , 0.        , 0.        , 0.        , 0.        , 0.        ,\n",
       "        0.        , 0.        , 0.        , 0.        , 0.        , 0.        , 0.        , 0.        , 0.        , 0.        , 0.        , 0.        , 0.        ],\n",
       "       [0.        , 0.        , 0.        , 0.        , 0.        , 0.        , 0.        , 0.        , 0.        , 0.        , 0.        , 0.        , 0.        , 0.        , 0.        ,\n",
       "        0.        , 0.        , 0.        , 0.        , 0.        , 0.        , 0.        , 0.        , 0.        , 0.        , 0.        , 0.        , 0.        ],\n",
       "       [0.        , 0.        , 0.        , 0.        , 0.        , 0.        , 0.        , 0.        , 0.        , 0.        , 0.        , 0.        , 0.        , 0.        , 0.        ,\n",
       "        0.        , 0.        , 0.        , 0.        , 0.        , 0.        , 0.        , 0.        , 0.        , 0.        , 0.        , 0.        , 0.        ],\n",
       "       [0.        , 0.        , 0.        , 0.        , 0.        , 0.        , 0.        , 0.        , 0.        , 0.        , 0.        , 0.        , 0.        , 0.        , 0.        ,\n",
       "        0.        , 0.        , 0.        , 0.        , 0.        , 0.        , 0.        , 0.        , 0.        , 0.        , 0.        , 0.        , 0.        ],\n",
       "       [0.        , 0.        , 0.        , 0.        , 0.        , 0.        , 0.        , 0.        , 0.        , 0.        , 0.        , 0.        , 0.        , 0.        , 0.        ,\n",
       "        0.        , 0.        , 0.        , 0.        , 0.        , 0.        , 0.        , 0.        , 0.        , 0.        , 0.        , 0.        , 0.        ],\n",
       "       [0.        , 0.        , 0.        , 0.        , 0.        , 0.        , 0.        , 0.        , 0.        , 0.        , 0.        , 0.        , 0.        , 0.        , 0.        ,\n",
       "        0.        , 0.        , 0.        , 0.        , 0.        , 0.        , 0.        , 0.        , 0.        , 0.        , 0.        , 0.        , 0.        ],\n",
       "       [0.        , 0.        , 0.        , 0.        , 0.        , 0.        , 0.        , 0.        , 0.        , 0.        , 0.        , 0.        , 0.        , 0.        , 0.        ,\n",
       "        0.        , 0.        , 0.        , 0.        , 0.        , 0.        , 0.        , 0.        , 0.        , 0.        , 0.        , 0.        , 0.        ],\n",
       "       [0.        , 0.        , 0.        , 0.        , 0.        , 0.        , 0.        , 0.        , 0.        , 0.        , 0.        , 0.        , 0.        , 0.        , 0.        ,\n",
       "        0.        , 0.        , 0.        , 0.        , 0.        , 0.        , 0.        , 0.        , 0.        , 0.        , 0.        , 0.        , 0.        ],\n",
       "       [0.        , 0.        , 0.        , 0.        , 0.        , 0.        , 0.        , 0.        , 0.        , 0.        , 0.        , 0.00784314, 0.        , 0.        , 0.22352941,\n",
       "        0.15686275, 0.        , 0.        , 0.        , 0.        , 0.        , 0.00392157, 0.        , 0.        , 0.01176471, 0.01568627, 0.        , 0.        ],\n",
       "       [0.        , 0.        , 0.        , 0.        , 0.        , 0.        , 0.        , 0.        , 0.        , 0.        , 0.01176471, 0.        , 0.        , 0.27058824, 0.65490196,\n",
       "        0.62352941, 0.31372549, 0.        , 0.        , 0.01568627, 0.02352941, 0.01568627, 0.02745098, 0.        , 0.        , 0.        , 0.        , 0.        ],\n",
       "       [0.        , 0.        , 0.        , 0.        , 0.        , 0.        , 0.        , 0.        , 0.        , 0.        , 0.        , 0.        , 0.49803922, 0.61176471, 0.48235294,\n",
       "        0.63137255, 0.68235294, 0.61176471, 0.        , 0.        , 0.        , 0.        , 0.        , 0.        , 0.19607843, 0.42352941, 0.58431373, 0.25098039],\n",
       "       [0.        , 0.        , 0.        , 0.        , 0.        , 0.        , 0.        , 0.        , 0.02352941, 0.        , 0.21176471, 0.82352941, 0.51764706, 0.47058824, 0.7254902 ,\n",
       "        0.49411765, 0.34901961, 0.6745098 , 0.72941176, 0.43529412, 0.34901961, 0.30980392, 0.48235294, 0.57647059, 0.52941176, 0.50196078, 0.49019608, 0.4       ],\n",
       "       [0.        , 0.        , 0.00392157, 0.        , 0.00392157, 0.00784314, 0.01568627, 0.        , 0.        , 0.        , 0.61176471, 0.7254902 , 0.        , 0.08235294, 0.70196078,\n",
       "        0.72941176, 0.44705882, 0.32156863, 0.4745098 , 0.6       , 0.59215686, 0.59607843, 0.50588235, 0.50588235, 0.4745098 , 0.45490196, 0.2745098 , 0.        ],\n",
       "       [0.        , 0.        , 0.        , 0.        , 0.        , 0.        , 0.        , 0.        , 0.        , 0.28235294, 0.67843137, 0.63529412, 0.        , 0.        , 0.        ,\n",
       "        0.08627451, 0.6745098 , 0.59215686, 0.35294118, 0.41176471, 0.43137255, 0.49803922, 0.58823529, 0.4745098 , 0.21568627, 0.        , 0.        , 0.        ],\n",
       "       [0.00392157, 0.01176471, 0.00784314, 0.        , 0.        , 0.03921569, 0.30588235, 0.56470588, 0.69803922, 0.78039216, 0.67843137, 0.66666667, 0.        , 0.        , 0.        ,\n",
       "        0.        , 0.        , 0.56078431, 0.70588235, 0.49019608, 0.5372549 , 0.61176471, 0.16470588, 0.        , 0.        , 0.        , 0.        , 0.00392157],\n",
       "       [0.        , 0.        , 0.        , 0.        , 0.42745098, 0.6627451 , 0.57647059, 0.48235294, 0.40392157, 0.58823529, 0.78431373, 0.74509804, 0.        , 0.        , 0.00392157,\n",
       "        0.        , 0.        , 0.        , 0.29019608, 0.48235294, 0.45882353, 0.38039216, 0.        , 0.        , 0.00392157, 0.        , 0.        , 0.        ],\n",
       "       [0.        , 0.0627451 , 0.09803922, 0.        , 0.47058824, 0.50588235, 0.42352941, 0.49803922, 0.43529412, 0.32941176, 0.55294118, 0.89803922, 0.        , 0.        , 0.        ,\n",
       "        0.        , 0.2       , 0.33333333, 0.41960784, 0.45882353, 0.38431373, 0.49019608, 0.50196078, 0.55294118, 0.54117647, 0.47058824, 0.36470588, 0.        ],\n",
       "       [0.56862745, 0.63137255, 0.4745098 , 0.58823529, 0.49411765, 0.44705882, 0.49019608, 0.46666667, 0.45882353, 0.49411765, 0.29803922, 0.69019608, 0.29019608, 0.29803922, 0.56862745,\n",
       "        0.61568627, 0.5372549 , 0.47058824, 0.54509804, 0.57647059, 0.6       , 0.63921569, 0.57647059, 0.56078431, 0.54901961, 0.54117647, 0.66666667, 0.32156863],\n",
       "       [0.21960784, 0.75686275, 0.78431373, 0.70588235, 0.61176471, 0.51764706, 0.4       , 0.33333333, 0.35294118, 0.38431373, 0.36470588, 0.30588235, 0.6745098 , 0.58823529, 0.49019608,\n",
       "        0.51372549, 0.65490196, 0.77254902, 0.86666667, 0.89019608, 0.85490196, 0.81960784, 0.81568627, 0.78431373, 0.74901961, 0.70196078, 0.77647059, 0.16862745],\n",
       "       [0.        , 0.        , 0.31764706, 0.70196078, 0.9372549 , 0.99607843, 0.96470588, 0.94901961, 0.84313725, 0.78431373, 0.72941176, 0.77647059, 0.78431373, 0.72941176, 0.8       ,\n",
       "        0.81960784, 0.96470588, 0.89411765, 0.83137255, 0.84313725, 0.93333333, 0.90980392, 0.84705882, 0.83921569, 0.79607843, 0.69803922, 0.90196078, 0.16470588],\n",
       "       [0.        , 0.        , 0.        , 0.        , 0.        , 0.        , 0.19607843, 0.38431373, 0.39607843, 0.62352941, 0.59607843, 0.4745098 , 0.52941176, 0.37647059, 0.19607843,\n",
       "        0.        , 0.        , 0.        , 0.        , 0.        , 0.12941176, 0.2745098 , 0.37647059, 0.41960784, 0.41960784, 0.34901961, 0.16470588, 0.        ],\n",
       "       [0.        , 0.        , 0.        , 0.        , 0.        , 0.        , 0.        , 0.        , 0.        , 0.        , 0.        , 0.        , 0.        , 0.        , 0.        ,\n",
       "        0.        , 0.        , 0.        , 0.        , 0.        , 0.        , 0.        , 0.        , 0.        , 0.        , 0.        , 0.        , 0.        ],\n",
       "       [0.        , 0.        , 0.        , 0.        , 0.        , 0.        , 0.        , 0.        , 0.        , 0.        , 0.        , 0.        , 0.        , 0.        , 0.        ,\n",
       "        0.        , 0.        , 0.        , 0.        , 0.        , 0.        , 0.        , 0.        , 0.        , 0.        , 0.        , 0.        , 0.        ],\n",
       "       [0.        , 0.        , 0.        , 0.        , 0.        , 0.        , 0.        , 0.        , 0.        , 0.        , 0.        , 0.        , 0.        , 0.        , 0.        ,\n",
       "        0.        , 0.        , 0.        , 0.        , 0.        , 0.        , 0.        , 0.        , 0.        , 0.        , 0.        , 0.        , 0.        ],\n",
       "       [0.        , 0.        , 0.        , 0.        , 0.        , 0.        , 0.        , 0.        , 0.        , 0.        , 0.        , 0.        , 0.        , 0.        , 0.        ,\n",
       "        0.        , 0.        , 0.        , 0.        , 0.        , 0.        , 0.        , 0.        , 0.        , 0.        , 0.        , 0.        , 0.        ],\n",
       "       [0.        , 0.        , 0.        , 0.        , 0.        , 0.        , 0.        , 0.        , 0.        , 0.        , 0.        , 0.        , 0.        , 0.        , 0.        ,\n",
       "        0.        , 0.        , 0.        , 0.        , 0.        , 0.        , 0.        , 0.        , 0.        , 0.        , 0.        , 0.        , 0.        ],\n",
       "       [0.        , 0.        , 0.        , 0.        , 0.        , 0.        , 0.        , 0.        , 0.        , 0.        , 0.        , 0.        , 0.        , 0.        , 0.        ,\n",
       "        0.        , 0.        , 0.        , 0.        , 0.        , 0.        , 0.        , 0.        , 0.        , 0.        , 0.        , 0.        , 0.        ],\n",
       "       [0.        , 0.        , 0.        , 0.        , 0.        , 0.        , 0.        , 0.        , 0.        , 0.        , 0.        , 0.        , 0.        , 0.        , 0.        ,\n",
       "        0.        , 0.        , 0.        , 0.        , 0.        , 0.        , 0.        , 0.        , 0.        , 0.        , 0.        , 0.        , 0.        ]])"
      ]
     },
     "execution_count": 10,
     "metadata": {},
     "output_type": "execute_result"
    }
   ],
   "source": [
    "training_images[43]"
   ]
  },
  {
   "cell_type": "code",
   "execution_count": 11,
   "metadata": {},
   "outputs": [],
   "source": [
    "# model desigining\n",
    "\n",
    "model = tf.keras.models.Sequential([tf.keras.layers.Flatten(),  # input later\n",
    "                                    tf.keras.layers.Dense(128, activation=tf.nn.relu), \n",
    "                                    tf.keras.layers.Dense(10, activation=tf.nn.softmax)]) # 10 because that many class labels"
   ]
  },
  {
   "cell_type": "code",
   "execution_count": 14,
   "metadata": {},
   "outputs": [
    {
     "name": "stdout",
     "output_type": "stream",
     "text": [
      "Epoch 1/7\n",
      "1875/1875 [==============================] - 2s 877us/step - loss: 0.2827 - accuracy: 0.8953\n",
      "Epoch 2/7\n",
      "1875/1875 [==============================] - 2s 870us/step - loss: 0.2683 - accuracy: 0.9006\n",
      "Epoch 3/7\n",
      "1875/1875 [==============================] - 2s 873us/step - loss: 0.2575 - accuracy: 0.9057\n",
      "Epoch 4/7\n",
      "1875/1875 [==============================] - 2s 862us/step - loss: 0.2476 - accuracy: 0.9082\n",
      "Epoch 5/7\n",
      "1875/1875 [==============================] - 2s 830us/step - loss: 0.2414 - accuracy: 0.9092\n",
      "Epoch 6/7\n",
      "1875/1875 [==============================] - 2s 930us/step - loss: 0.2335 - accuracy: 0.9111\n",
      "Epoch 7/7\n",
      "1875/1875 [==============================] - 2s 863us/step - loss: 0.2246 - accuracy: 0.9144\n"
     ]
    },
    {
     "data": {
      "text/plain": [
       "<tensorflow.python.keras.callbacks.History at 0x144115390>"
      ]
     },
     "execution_count": 14,
     "metadata": {},
     "output_type": "execute_result"
    }
   ],
   "source": [
    "# fitting and compiling\n",
    "model.compile(optimizer = tf.optimizers.Adam(),\n",
    "              loss = 'sparse_categorical_crossentropy',\n",
    "              metrics=['accuracy'])\n",
    "\n",
    "model.fit(training_images, training_labels, epochs=7)"
   ]
  },
  {
   "cell_type": "code",
   "execution_count": 15,
   "metadata": {},
   "outputs": [],
   "source": [
    "# with epoch 7 it gives 91.44 % accuracy"
   ]
  },
  {
   "cell_type": "code",
   "execution_count": 16,
   "metadata": {},
   "outputs": [
    {
     "name": "stdout",
     "output_type": "stream",
     "text": [
      "313/313 [==============================] - 0s 725us/step - loss: 0.3494 - accuracy: 0.8820\n"
     ]
    },
    {
     "data": {
      "text/plain": [
       "[0.34941694140434265, 0.8820000290870667]"
      ]
     },
     "execution_count": 16,
     "metadata": {},
     "output_type": "execute_result"
    }
   ],
   "source": [
    "# validation\n",
    "model.evaluate(test_images, test_labels)"
   ]
  },
  {
   "cell_type": "code",
   "execution_count": 17,
   "metadata": {},
   "outputs": [],
   "source": [
    "#it gave accuracy of 88.2 #"
   ]
  },
  {
   "cell_type": "code",
   "execution_count": 18,
   "metadata": {},
   "outputs": [
    {
     "name": "stdout",
     "output_type": "stream",
     "text": [
      "[3.3683250e-09 1.2709572e-12 1.7850156e-12 1.4389422e-12 2.8715103e-11 1.0267283e-03 2.1015774e-09 3.2101944e-03 2.8368699e-08 9.9576306e-01]\n"
     ]
    }
   ],
   "source": [
    "classifications = model.predict(test_images)\n",
    "\n",
    "print(classifications[0])"
   ]
  },
  {
   "cell_type": "code",
   "execution_count": 22,
   "metadata": {},
   "outputs": [
    {
     "name": "stdout",
     "output_type": "stream",
     "text": [
      "2\n"
     ]
    }
   ],
   "source": [
    "print(test_labels[1])"
   ]
  },
  {
   "cell_type": "code",
   "execution_count": 21,
   "metadata": {},
   "outputs": [],
   "source": [
    "# it It's the probability that this item is each of the 10 classes\n",
    "# means the test_image belongs to label 1"
   ]
  },
  {
   "cell_type": "code",
   "execution_count": 23,
   "metadata": {},
   "outputs": [],
   "source": [
    "# call back function \n",
    "class myCallback(tf.keras.callbacks.Callback):\n",
    "  def on_epoch_end(self, epoch, logs={}):\n",
    "    if(logs.get('loss')<0.4):\n",
    "      print(\"\\nReached 60% accuracy so cancelling training!\")\n",
    "      self.model.stop_training = True"
   ]
  },
  {
   "cell_type": "code",
   "execution_count": 24,
   "metadata": {},
   "outputs": [
    {
     "name": "stdout",
     "output_type": "stream",
     "text": [
      "Epoch 1/5\n",
      "1875/1875 [==============================] - 3s 2ms/step - loss: 0.4713\n",
      "Epoch 2/5\n",
      "1874/1875 [============================>.] - ETA: 0s - loss: 0.3584\n",
      "Reached 60% accuracy so cancelling training!\n",
      "1875/1875 [==============================] - 3s 2ms/step - loss: 0.3583\n"
     ]
    },
    {
     "data": {
      "text/plain": [
       "<tensorflow.python.keras.callbacks.History at 0x1095afcd0>"
      ]
     },
     "execution_count": 24,
     "metadata": {},
     "output_type": "execute_result"
    }
   ],
   "source": [
    "callbacks = myCallback()\n",
    "mnist = tf.keras.datasets.fashion_mnist\n",
    "(training_images, training_labels), (test_images, test_labels) = mnist.load_data()\n",
    "training_images=training_images/255.0\n",
    "test_images=test_images/255.0\n",
    "model = tf.keras.models.Sequential([\n",
    "  tf.keras.layers.Flatten(),\n",
    "  tf.keras.layers.Dense(512, activation=tf.nn.relu),\n",
    "  tf.keras.layers.Dense(10, activation=tf.nn.softmax)\n",
    "])\n",
    "model.compile(optimizer='adam', loss='sparse_categorical_crossentropy')\n",
    "model.fit(training_images, training_labels, epochs=5, callbacks=[callbacks])"
   ]
  },
  {
   "cell_type": "code",
   "execution_count": null,
   "metadata": {},
   "outputs": [],
   "source": []
  }
 ],
 "metadata": {
  "kernelspec": {
   "display_name": "Python 3",
   "language": "python",
   "name": "python3"
  },
  "language_info": {
   "codemirror_mode": {
    "name": "ipython",
    "version": 3
   },
   "file_extension": ".py",
   "mimetype": "text/x-python",
   "name": "python",
   "nbconvert_exporter": "python",
   "pygments_lexer": "ipython3",
   "version": "3.7.4"
  }
 },
 "nbformat": 4,
 "nbformat_minor": 4
}
